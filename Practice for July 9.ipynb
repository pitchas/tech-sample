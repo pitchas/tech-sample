{
 "cells": [
  {
   "cell_type": "code",
   "execution_count": 1,
   "metadata": {},
   "outputs": [],
   "source": [
    "import pandas as pd\n",
    "import matplotlib.pyplot as plt\n",
    "\n",
    "%matplotlib inline\n"
   ]
  },
  {
   "cell_type": "markdown",
   "metadata": {},
   "source": [
    "1.  Load the \"NYPD_Shooting_Incident_Data__Historic_.csv\" dataframe.  Make sure the data frame loaded correctly.  You can examine the coding guide for the dataset:  https://data.cityofnewyork.us/Public-Safety/NYPD-Shooting-Incident-Data-Historic-/833y-fsy8   \n",
    "2.  Examine the datatype of each variable\n",
    "3.  What is the shape of the dataset?\n",
    "4.  Examine the Series \"OCCUR_DATE\".  What information did you learn from examining this column?   \n",
    "5.  Do a \"frequency distribution\" for the months where shootings have occurred.  What month had the most number of shootings?\n",
    "6.  Plot a bar graph visualizing the precincts with the 10 highest shooting incidents.\n",
    "7.  Plot the number of shooting incidents per borough.  Google and add a title to your graph, as well as x and y axis labels.\n",
    "8. Create a dataframe of shootings in the Bronx where the victim was a White Hispanic\n",
    "9. Make two dataframes -- one showing day shootings (9 am - 9 pm, inclusive) and one showing night shootings.\n",
    "10.  Plot a graph of day shootings and one of night shootings.  What do you notice?"
   ]
  },
  {
   "cell_type": "markdown",
   "metadata": {},
   "source": [
    "**1) Load the \"NYPD_Shooting_Incident_Data__Historic_.csv\" dataframe. Make sure the data frame loaded correctly. You can examine the coding guide for the dataset: https://data.cityofnewyork.us/Public-Safety/NYPD-Shooting-Incident-Data-Historic-/833y-fsy8**"
   ]
  },
  {
   "cell_type": "code",
   "execution_count": 2,
   "metadata": {},
   "outputs": [
    {
     "data": {
      "text/html": [
       "<div>\n",
       "<style scoped>\n",
       "    .dataframe tbody tr th:only-of-type {\n",
       "        vertical-align: middle;\n",
       "    }\n",
       "\n",
       "    .dataframe tbody tr th {\n",
       "        vertical-align: top;\n",
       "    }\n",
       "\n",
       "    .dataframe thead th {\n",
       "        text-align: right;\n",
       "    }\n",
       "</style>\n",
       "<table border=\"1\" class=\"dataframe\">\n",
       "  <thead>\n",
       "    <tr style=\"text-align: right;\">\n",
       "      <th></th>\n",
       "      <th>INCIDENT_KEY</th>\n",
       "      <th>OCCUR_DATE</th>\n",
       "      <th>OCCUR_TIME</th>\n",
       "      <th>BORO</th>\n",
       "      <th>PRECINCT</th>\n",
       "      <th>JURISDICTION_CODE</th>\n",
       "      <th>LOCATION_DESC</th>\n",
       "      <th>STATISTICAL_MURDER_FLAG</th>\n",
       "      <th>PERP_AGE_GROUP</th>\n",
       "      <th>PERP_SEX</th>\n",
       "      <th>PERP_RACE</th>\n",
       "      <th>VIC_AGE_GROUP</th>\n",
       "      <th>VIC_SEX</th>\n",
       "      <th>VIC_RACE</th>\n",
       "      <th>X_COORD_CD</th>\n",
       "      <th>Y_COORD_CD</th>\n",
       "      <th>Latitude</th>\n",
       "      <th>Longitude</th>\n",
       "      <th>Lon_Lat</th>\n",
       "    </tr>\n",
       "  </thead>\n",
       "  <tbody>\n",
       "    <tr>\n",
       "      <th>0</th>\n",
       "      <td>199247701</td>\n",
       "      <td>07/03/2019</td>\n",
       "      <td>00:04:00</td>\n",
       "      <td>QUEENS</td>\n",
       "      <td>114</td>\n",
       "      <td>2</td>\n",
       "      <td>MULTI DWELL - PUBLIC HOUS</td>\n",
       "      <td>False</td>\n",
       "      <td>&lt;18</td>\n",
       "      <td>M</td>\n",
       "      <td>WHITE</td>\n",
       "      <td>25-44</td>\n",
       "      <td>M</td>\n",
       "      <td>WHITE HISPANIC</td>\n",
       "      <td>999925</td>\n",
       "      <td>214507</td>\n",
       "      <td>40.755443</td>\n",
       "      <td>-73.943423</td>\n",
       "      <td>POINT (-73.94342324599995 40.755443005000075)</td>\n",
       "    </tr>\n",
       "    <tr>\n",
       "      <th>1</th>\n",
       "      <td>199247701</td>\n",
       "      <td>07/03/2019</td>\n",
       "      <td>00:04:00</td>\n",
       "      <td>QUEENS</td>\n",
       "      <td>114</td>\n",
       "      <td>2</td>\n",
       "      <td>MULTI DWELL - PUBLIC HOUS</td>\n",
       "      <td>False</td>\n",
       "      <td>&lt;18</td>\n",
       "      <td>M</td>\n",
       "      <td>WHITE</td>\n",
       "      <td>25-44</td>\n",
       "      <td>M</td>\n",
       "      <td>WHITE HISPANIC</td>\n",
       "      <td>999,925</td>\n",
       "      <td>214,507</td>\n",
       "      <td>40.755443</td>\n",
       "      <td>-73.943423</td>\n",
       "      <td>POINT (-73.94342324599995 40.755443005000075)</td>\n",
       "    </tr>\n",
       "    <tr>\n",
       "      <th>2</th>\n",
       "      <td>199247701</td>\n",
       "      <td>07/03/2019</td>\n",
       "      <td>00:04:00</td>\n",
       "      <td>QUEENS</td>\n",
       "      <td>114</td>\n",
       "      <td>2</td>\n",
       "      <td>MULTI DWELL - PUBLIC HOUS</td>\n",
       "      <td>False</td>\n",
       "      <td>&lt;18</td>\n",
       "      <td>M</td>\n",
       "      <td>WHITE</td>\n",
       "      <td>18-24</td>\n",
       "      <td>M</td>\n",
       "      <td>BLACK</td>\n",
       "      <td>999,925</td>\n",
       "      <td>214,507</td>\n",
       "      <td>40.755443</td>\n",
       "      <td>-73.943423</td>\n",
       "      <td>POINT (-73.94342324599995 40.755443005000075)</td>\n",
       "    </tr>\n",
       "    <tr>\n",
       "      <th>3</th>\n",
       "      <td>199247701</td>\n",
       "      <td>07/03/2019</td>\n",
       "      <td>00:04:00</td>\n",
       "      <td>QUEENS</td>\n",
       "      <td>114</td>\n",
       "      <td>2</td>\n",
       "      <td>MULTI DWELL - PUBLIC HOUS</td>\n",
       "      <td>False</td>\n",
       "      <td>UNKNOWN</td>\n",
       "      <td>U</td>\n",
       "      <td>UNKNOWN</td>\n",
       "      <td>18-24</td>\n",
       "      <td>M</td>\n",
       "      <td>BLACK</td>\n",
       "      <td>999925</td>\n",
       "      <td>214507</td>\n",
       "      <td>40.755443</td>\n",
       "      <td>-73.943423</td>\n",
       "      <td>POINT (-73.94342324599995 40.755443005000075)</td>\n",
       "    </tr>\n",
       "    <tr>\n",
       "      <th>4</th>\n",
       "      <td>199247701</td>\n",
       "      <td>07/03/2019</td>\n",
       "      <td>00:04:00</td>\n",
       "      <td>QUEENS</td>\n",
       "      <td>114</td>\n",
       "      <td>2</td>\n",
       "      <td>MULTI DWELL - PUBLIC HOUS</td>\n",
       "      <td>False</td>\n",
       "      <td>25-44</td>\n",
       "      <td>M</td>\n",
       "      <td>BLACK</td>\n",
       "      <td>18-24</td>\n",
       "      <td>M</td>\n",
       "      <td>BLACK</td>\n",
       "      <td>999925</td>\n",
       "      <td>214507</td>\n",
       "      <td>40.755443</td>\n",
       "      <td>-73.943423</td>\n",
       "      <td>POINT (-73.94342324599995 40.755443005000075)</td>\n",
       "    </tr>\n",
       "  </tbody>\n",
       "</table>\n",
       "</div>"
      ],
      "text/plain": [
       "   INCIDENT_KEY  OCCUR_DATE OCCUR_TIME    BORO  PRECINCT  JURISDICTION_CODE  \\\n",
       "0     199247701  07/03/2019   00:04:00  QUEENS       114                  2   \n",
       "1     199247701  07/03/2019   00:04:00  QUEENS       114                  2   \n",
       "2     199247701  07/03/2019   00:04:00  QUEENS       114                  2   \n",
       "3     199247701  07/03/2019   00:04:00  QUEENS       114                  2   \n",
       "4     199247701  07/03/2019   00:04:00  QUEENS       114                  2   \n",
       "\n",
       "               LOCATION_DESC  STATISTICAL_MURDER_FLAG PERP_AGE_GROUP PERP_SEX  \\\n",
       "0  MULTI DWELL - PUBLIC HOUS                    False            <18        M   \n",
       "1  MULTI DWELL - PUBLIC HOUS                    False            <18        M   \n",
       "2  MULTI DWELL - PUBLIC HOUS                    False            <18        M   \n",
       "3  MULTI DWELL - PUBLIC HOUS                    False        UNKNOWN        U   \n",
       "4  MULTI DWELL - PUBLIC HOUS                    False          25-44        M   \n",
       "\n",
       "  PERP_RACE VIC_AGE_GROUP VIC_SEX        VIC_RACE X_COORD_CD Y_COORD_CD  \\\n",
       "0     WHITE         25-44       M  WHITE HISPANIC     999925     214507   \n",
       "1     WHITE         25-44       M  WHITE HISPANIC    999,925    214,507   \n",
       "2     WHITE         18-24       M           BLACK    999,925    214,507   \n",
       "3   UNKNOWN         18-24       M           BLACK     999925     214507   \n",
       "4     BLACK         18-24       M           BLACK     999925     214507   \n",
       "\n",
       "    Latitude  Longitude                                        Lon_Lat  \n",
       "0  40.755443 -73.943423  POINT (-73.94342324599995 40.755443005000075)  \n",
       "1  40.755443 -73.943423  POINT (-73.94342324599995 40.755443005000075)  \n",
       "2  40.755443 -73.943423  POINT (-73.94342324599995 40.755443005000075)  \n",
       "3  40.755443 -73.943423  POINT (-73.94342324599995 40.755443005000075)  \n",
       "4  40.755443 -73.943423  POINT (-73.94342324599995 40.755443005000075)  "
      ]
     },
     "execution_count": 2,
     "metadata": {},
     "output_type": "execute_result"
    }
   ],
   "source": [
    "nypd = pd.read_csv(\"NYPD_Shooting_Incident_Data__Historic_.csv\")  \n",
    "nypd.head()"
   ]
  },
  {
   "cell_type": "markdown",
   "metadata": {},
   "source": [
    "**2) Examine the datatype of each variable**"
   ]
  },
  {
   "cell_type": "code",
   "execution_count": 5,
   "metadata": {},
   "outputs": [
    {
     "data": {
      "text/plain": [
       "INCIDENT_KEY                 int64\n",
       "OCCUR_DATE                  object\n",
       "OCCUR_TIME                  object\n",
       "BORO                        object\n",
       "PRECINCT                     int64\n",
       "JURISDICTION_CODE            int64\n",
       "LOCATION_DESC               object\n",
       "STATISTICAL_MURDER_FLAG       bool\n",
       "PERP_AGE_GROUP              object\n",
       "PERP_SEX                    object\n",
       "PERP_RACE                   object\n",
       "VIC_AGE_GROUP               object\n",
       "VIC_SEX                     object\n",
       "VIC_RACE                    object\n",
       "X_COORD_CD                  object\n",
       "Y_COORD_CD                  object\n",
       "Latitude                   float64\n",
       "Longitude                  float64\n",
       "Lon_Lat                     object\n",
       "dtype: object"
      ]
     },
     "execution_count": 5,
     "metadata": {},
     "output_type": "execute_result"
    }
   ],
   "source": [
    "nypd.dtypes"
   ]
  },
  {
   "cell_type": "markdown",
   "metadata": {},
   "source": [
    "**3) What is the shape of the dataset?**"
   ]
  },
  {
   "cell_type": "code",
   "execution_count": 7,
   "metadata": {},
   "outputs": [
    {
     "name": "stdout",
     "output_type": "stream",
     "text": [
      "(826, 19)\n"
     ]
    }
   ],
   "source": [
    "print(nypd.shape)"
   ]
  },
  {
   "cell_type": "markdown",
   "metadata": {},
   "source": [
    "**4) Examine the Series \"OCCUR_DATE\". What information did you learn from examining this column?**"
   ]
  },
  {
   "cell_type": "markdown",
   "metadata": {},
   "source": [
    "Occur_Date is the date of the shooting incident (when it occured)"
   ]
  },
  {
   "cell_type": "markdown",
   "metadata": {},
   "source": [
    "**5) Do a \"frequency distribution\" for the months where shootings have occurred. What month had the most number of shootings?**"
   ]
  },
  {
   "cell_type": "code",
   "execution_count": 8,
   "metadata": {
    "scrolled": true
   },
   "outputs": [
    {
     "data": {
      "text/plain": [
       "07/05/2019    30\n",
       "09/02/2019    28\n",
       "07/27/2019    26\n",
       "08/11/2019    20\n",
       "07/28/2019    18\n",
       "              ..\n",
       "11/01/2019     1\n",
       "11/26/2019     1\n",
       "11/19/2019     1\n",
       "10/19/2019     1\n",
       "11/30/2019     1\n",
       "Name: OCCUR_DATE, Length: 157, dtype: int64"
      ]
     },
     "execution_count": 8,
     "metadata": {},
     "output_type": "execute_result"
    }
   ],
   "source": [
    "nypd[\"OCCUR_DATE\"].value_counts()"
   ]
  },
  {
   "cell_type": "markdown",
   "metadata": {},
   "source": [
    "The month of July had the most shootings"
   ]
  },
  {
   "cell_type": "code",
   "execution_count": 11,
   "metadata": {},
   "outputs": [
    {
     "data": {
      "text/plain": [
       "73     55\n",
       "75     48\n",
       "46     36\n",
       "113    36\n",
       "67     35\n",
       "77     34\n",
       "44     31\n",
       "23     29\n",
       "114    28\n",
       "42     27\n",
       "Name: PRECINCT, dtype: int64"
      ]
     },
     "execution_count": 11,
     "metadata": {},
     "output_type": "execute_result"
    }
   ],
   "source": [
    "Precinct = nypd[\"PRECINCT\"].value_counts().head(n = 10)  \n",
    "Precinct"
   ]
  },
  {
   "cell_type": "markdown",
   "metadata": {},
   "source": [
    "**6) Plot a bar graph visualizing the precincts with the 10 highest shooting incidents.**"
   ]
  },
  {
   "cell_type": "code",
   "execution_count": 12,
   "metadata": {},
   "outputs": [
    {
     "data": {
      "text/plain": [
       "<matplotlib.axes._subplots.AxesSubplot at 0x18bab537b48>"
      ]
     },
     "execution_count": 12,
     "metadata": {},
     "output_type": "execute_result"
    },
    {
     "data": {
      "image/png": "[encoded data removed]",
      "text/plain": [
       "<Figure size 432x288 with 1 Axes>"
      ]
     },
     "metadata": {
      "needs_background": "light"
     },
     "output_type": "display_data"
    }
   ],
   "source": [
    "Precinct.plot(kind = \"bar\")"
   ]
  },
  {
   "cell_type": "markdown",
   "metadata": {},
   "source": [
    "**7) Plot the number of shooting incidents per borough. Google and add a title to your graph, as well as x and y axis labels.**"
   ]
  },
  {
   "cell_type": "code",
   "execution_count": 15,
   "metadata": {
    "scrolled": true
   },
   "outputs": [
    {
     "data": {
      "text/plain": [
       "BROOKLYN         315\n",
       "BRONX            228\n",
       "QUEENS           145\n",
       "MANHATTAN        114\n",
       "STATEN ISLAND     24\n",
       "Name: BORO, dtype: int64"
      ]
     },
     "execution_count": 15,
     "metadata": {},
     "output_type": "execute_result"
    }
   ],
   "source": [
    "Boroughs = nypd[\"BORO\"].value_counts().head(n = 5)  \n",
    "Boroughs"
   ]
  },
  {
   "cell_type": "code",
   "execution_count": 30,
   "metadata": {},
   "outputs": [],
   "source": [
    "import numpy as np"
   ]
  },
  {
   "cell_type": "code",
   "execution_count": 31,
   "metadata": {},
   "outputs": [
    {
     "data": {
      "text/plain": [
       "Text(0, 0.5, 'Number of Shootings')"
      ]
     },
     "execution_count": 31,
     "metadata": {},
     "output_type": "execute_result"
    },
    {
     "data": {
      "image/png": "[encoded data removed]",
      "text/plain": [
       "<Figure size 432x288 with 1 Axes>"
      ]
     },
     "metadata": {
      "needs_background": "light"
     },
     "output_type": "display_data"
    }
   ],
   "source": [
    "Boroughs.plot(kind = \"bar\", title = \"Number of Shooting Incidents Per Boroughs\")   \n",
    "plt.xlabel(\"Boroughs\")  \n",
    "plt.ylabel(\"Number of Shootings\")\n"
   ]
  },
  {
   "cell_type": "markdown",
   "metadata": {},
   "source": [
    "**8) Create a dataframe of shootings in the Bronx where the victim was a White Hispanic**"
   ]
  },
  {
   "cell_type": "code",
   "execution_count": 52,
   "metadata": {},
   "outputs": [],
   "source": [
    "borough_filter = nypd[\"BORO\"] == \"BRONX\"  \n",
    "race_filter = nypd[\"VIC_RACE\"] == \"WHITE HISPANIC\"  "
   ]
  },
  {
   "cell_type": "code",
   "execution_count": 53,
   "metadata": {},
   "outputs": [
    {
     "data": {
      "text/html": [
       "<div>\n",
       "<style scoped>\n",
       "    .dataframe tbody tr th:only-of-type {\n",
       "        vertical-align: middle;\n",
       "    }\n",
       "\n",
       "    .dataframe tbody tr th {\n",
       "        vertical-align: top;\n",
       "    }\n",
       "\n",
       "    .dataframe thead th {\n",
       "        text-align: right;\n",
       "    }\n",
       "</style>\n",
       "<table border=\"1\" class=\"dataframe\">\n",
       "  <thead>\n",
       "    <tr style=\"text-align: right;\">\n",
       "      <th></th>\n",
       "      <th>INCIDENT_KEY</th>\n",
       "      <th>OCCUR_DATE</th>\n",
       "      <th>OCCUR_TIME</th>\n",
       "      <th>BORO</th>\n",
       "      <th>PRECINCT</th>\n",
       "      <th>JURISDICTION_CODE</th>\n",
       "      <th>LOCATION_DESC</th>\n",
       "      <th>STATISTICAL_MURDER_FLAG</th>\n",
       "      <th>PERP_AGE_GROUP</th>\n",
       "      <th>PERP_SEX</th>\n",
       "      <th>PERP_RACE</th>\n",
       "      <th>VIC_AGE_GROUP</th>\n",
       "      <th>VIC_SEX</th>\n",
       "      <th>VIC_RACE</th>\n",
       "      <th>X_COORD_CD</th>\n",
       "      <th>Y_COORD_CD</th>\n",
       "      <th>Latitude</th>\n",
       "      <th>Longitude</th>\n",
       "      <th>Lon_Lat</th>\n",
       "    </tr>\n",
       "  </thead>\n",
       "  <tbody>\n",
       "    <tr>\n",
       "      <th>22</th>\n",
       "      <td>199403136</td>\n",
       "      <td>07/05/2019</td>\n",
       "      <td>21:25:00</td>\n",
       "      <td>BRONX</td>\n",
       "      <td>47</td>\n",
       "      <td>0</td>\n",
       "      <td>NaN</td>\n",
       "      <td>False</td>\n",
       "      <td>25-44</td>\n",
       "      <td>M</td>\n",
       "      <td>BLACK</td>\n",
       "      <td>25-44</td>\n",
       "      <td>M</td>\n",
       "      <td>WHITE HISPANIC</td>\n",
       "      <td>1,020,357</td>\n",
       "      <td>259,231</td>\n",
       "      <td>40.878138</td>\n",
       "      <td>-73.869434</td>\n",
       "      <td>POINT (-73.86943433699997 40.87813788000005)</td>\n",
       "    </tr>\n",
       "    <tr>\n",
       "      <th>23</th>\n",
       "      <td>199401908</td>\n",
       "      <td>07/05/2019</td>\n",
       "      <td>17:20:00</td>\n",
       "      <td>BRONX</td>\n",
       "      <td>41</td>\n",
       "      <td>0</td>\n",
       "      <td>PVT HOUSE</td>\n",
       "      <td>False</td>\n",
       "      <td>18-24</td>\n",
       "      <td>M</td>\n",
       "      <td>WHITE HISPANIC</td>\n",
       "      <td>25-44</td>\n",
       "      <td>M</td>\n",
       "      <td>WHITE HISPANIC</td>\n",
       "      <td>1,015,346</td>\n",
       "      <td>236,367</td>\n",
       "      <td>40.815402</td>\n",
       "      <td>-73.887661</td>\n",
       "      <td>POINT (-73.88766070399998 40.815402050000046)</td>\n",
       "    </tr>\n",
       "    <tr>\n",
       "      <th>26</th>\n",
       "      <td>199401908</td>\n",
       "      <td>07/05/2019</td>\n",
       "      <td>17:20:00</td>\n",
       "      <td>BRONX</td>\n",
       "      <td>41</td>\n",
       "      <td>0</td>\n",
       "      <td>PVT HOUSE</td>\n",
       "      <td>False</td>\n",
       "      <td>18-24</td>\n",
       "      <td>M</td>\n",
       "      <td>WHITE HISPANIC</td>\n",
       "      <td>18-24</td>\n",
       "      <td>M</td>\n",
       "      <td>WHITE HISPANIC</td>\n",
       "      <td>1015346</td>\n",
       "      <td>236367</td>\n",
       "      <td>40.815402</td>\n",
       "      <td>-73.887661</td>\n",
       "      <td>POINT (-73.88766070399998 40.815402050000046)</td>\n",
       "    </tr>\n",
       "    <tr>\n",
       "      <th>31</th>\n",
       "      <td>199325319</td>\n",
       "      <td>07/05/2019</td>\n",
       "      <td>04:25:00</td>\n",
       "      <td>BRONX</td>\n",
       "      <td>52</td>\n",
       "      <td>0</td>\n",
       "      <td>NaN</td>\n",
       "      <td>False</td>\n",
       "      <td>25-44</td>\n",
       "      <td>M</td>\n",
       "      <td>WHITE HISPANIC</td>\n",
       "      <td>25-44</td>\n",
       "      <td>M</td>\n",
       "      <td>WHITE HISPANIC</td>\n",
       "      <td>1,014,384</td>\n",
       "      <td>256,796</td>\n",
       "      <td>40.871477</td>\n",
       "      <td>-73.891044</td>\n",
       "      <td>POINT (-73.89104432799998 40.87147697300003)</td>\n",
       "    </tr>\n",
       "    <tr>\n",
       "      <th>32</th>\n",
       "      <td>199325319</td>\n",
       "      <td>07/05/2019</td>\n",
       "      <td>04:25:00</td>\n",
       "      <td>BRONX</td>\n",
       "      <td>52</td>\n",
       "      <td>0</td>\n",
       "      <td>NaN</td>\n",
       "      <td>False</td>\n",
       "      <td>25-44</td>\n",
       "      <td>M</td>\n",
       "      <td>WHITE HISPANIC</td>\n",
       "      <td>25-44</td>\n",
       "      <td>M</td>\n",
       "      <td>WHITE HISPANIC</td>\n",
       "      <td>1014384</td>\n",
       "      <td>256796</td>\n",
       "      <td>40.871477</td>\n",
       "      <td>-73.891044</td>\n",
       "      <td>POINT (-73.89104432799998 40.87147697300003)</td>\n",
       "    </tr>\n",
       "    <tr>\n",
       "      <th>...</th>\n",
       "      <td>...</td>\n",
       "      <td>...</td>\n",
       "      <td>...</td>\n",
       "      <td>...</td>\n",
       "      <td>...</td>\n",
       "      <td>...</td>\n",
       "      <td>...</td>\n",
       "      <td>...</td>\n",
       "      <td>...</td>\n",
       "      <td>...</td>\n",
       "      <td>...</td>\n",
       "      <td>...</td>\n",
       "      <td>...</td>\n",
       "      <td>...</td>\n",
       "      <td>...</td>\n",
       "      <td>...</td>\n",
       "      <td>...</td>\n",
       "      <td>...</td>\n",
       "      <td>...</td>\n",
       "    </tr>\n",
       "    <tr>\n",
       "      <th>707</th>\n",
       "      <td>204464564</td>\n",
       "      <td>11/04/2019</td>\n",
       "      <td>13:40:00</td>\n",
       "      <td>BRONX</td>\n",
       "      <td>40</td>\n",
       "      <td>0</td>\n",
       "      <td>NaN</td>\n",
       "      <td>True</td>\n",
       "      <td>45-64</td>\n",
       "      <td>M</td>\n",
       "      <td>BLACK</td>\n",
       "      <td>25-44</td>\n",
       "      <td>M</td>\n",
       "      <td>WHITE HISPANIC</td>\n",
       "      <td>1008120</td>\n",
       "      <td>238322</td>\n",
       "      <td>40.820790</td>\n",
       "      <td>-73.913759</td>\n",
       "      <td>POINT (-73.91375915499998 40.82079045300003)</td>\n",
       "    </tr>\n",
       "    <tr>\n",
       "      <th>729</th>\n",
       "      <td>205177556</td>\n",
       "      <td>11/14/2019</td>\n",
       "      <td>00:59:00</td>\n",
       "      <td>BRONX</td>\n",
       "      <td>44</td>\n",
       "      <td>0</td>\n",
       "      <td>NaN</td>\n",
       "      <td>False</td>\n",
       "      <td>NaN</td>\n",
       "      <td>NaN</td>\n",
       "      <td>NaN</td>\n",
       "      <td>18-24</td>\n",
       "      <td>M</td>\n",
       "      <td>WHITE HISPANIC</td>\n",
       "      <td>1004530</td>\n",
       "      <td>242729</td>\n",
       "      <td>40.832895</td>\n",
       "      <td>-73.926716</td>\n",
       "      <td>POINT (-73.92671649599998 40.83289538100007)</td>\n",
       "    </tr>\n",
       "    <tr>\n",
       "      <th>756</th>\n",
       "      <td>205748550</td>\n",
       "      <td>11/27/2019</td>\n",
       "      <td>23:30:00</td>\n",
       "      <td>BRONX</td>\n",
       "      <td>45</td>\n",
       "      <td>0</td>\n",
       "      <td>NaN</td>\n",
       "      <td>False</td>\n",
       "      <td>18-24</td>\n",
       "      <td>M</td>\n",
       "      <td>BLACK</td>\n",
       "      <td>18-24</td>\n",
       "      <td>F</td>\n",
       "      <td>WHITE HISPANIC</td>\n",
       "      <td>1032140</td>\n",
       "      <td>242004</td>\n",
       "      <td>40.830799</td>\n",
       "      <td>-73.826949</td>\n",
       "      <td>POINT (-73.82694879599995 40.83079891400007)</td>\n",
       "    </tr>\n",
       "    <tr>\n",
       "      <th>757</th>\n",
       "      <td>205748550</td>\n",
       "      <td>11/27/2019</td>\n",
       "      <td>23:30:00</td>\n",
       "      <td>BRONX</td>\n",
       "      <td>45</td>\n",
       "      <td>0</td>\n",
       "      <td>NaN</td>\n",
       "      <td>False</td>\n",
       "      <td>18-24</td>\n",
       "      <td>M</td>\n",
       "      <td>BLACK</td>\n",
       "      <td>18-24</td>\n",
       "      <td>M</td>\n",
       "      <td>WHITE HISPANIC</td>\n",
       "      <td>1032140</td>\n",
       "      <td>242004</td>\n",
       "      <td>40.830799</td>\n",
       "      <td>-73.826949</td>\n",
       "      <td>POINT (-73.82694879599995 40.83079891400007)</td>\n",
       "    </tr>\n",
       "    <tr>\n",
       "      <th>762</th>\n",
       "      <td>205862272</td>\n",
       "      <td>11/29/2019</td>\n",
       "      <td>14:07:00</td>\n",
       "      <td>BRONX</td>\n",
       "      <td>42</td>\n",
       "      <td>0</td>\n",
       "      <td>NaN</td>\n",
       "      <td>False</td>\n",
       "      <td>NaN</td>\n",
       "      <td>NaN</td>\n",
       "      <td>NaN</td>\n",
       "      <td>25-44</td>\n",
       "      <td>M</td>\n",
       "      <td>WHITE HISPANIC</td>\n",
       "      <td>1011977</td>\n",
       "      <td>240173</td>\n",
       "      <td>40.825860</td>\n",
       "      <td>-73.899816</td>\n",
       "      <td>POINT (-73.89981617899997 40.82585965700008)</td>\n",
       "    </tr>\n",
       "  </tbody>\n",
       "</table>\n",
       "<p>69 rows × 19 columns</p>\n",
       "</div>"
      ],
      "text/plain": [
       "     INCIDENT_KEY  OCCUR_DATE OCCUR_TIME   BORO  PRECINCT  JURISDICTION_CODE  \\\n",
       "22      199403136  07/05/2019   21:25:00  BRONX        47                  0   \n",
       "23      199401908  07/05/2019   17:20:00  BRONX        41                  0   \n",
       "26      199401908  07/05/2019   17:20:00  BRONX        41                  0   \n",
       "31      199325319  07/05/2019   04:25:00  BRONX        52                  0   \n",
       "32      199325319  07/05/2019   04:25:00  BRONX        52                  0   \n",
       "..            ...         ...        ...    ...       ...                ...   \n",
       "707     204464564  11/04/2019   13:40:00  BRONX        40                  0   \n",
       "729     205177556  11/14/2019   00:59:00  BRONX        44                  0   \n",
       "756     205748550  11/27/2019   23:30:00  BRONX        45                  0   \n",
       "757     205748550  11/27/2019   23:30:00  BRONX        45                  0   \n",
       "762     205862272  11/29/2019   14:07:00  BRONX        42                  0   \n",
       "\n",
       "    LOCATION_DESC  STATISTICAL_MURDER_FLAG PERP_AGE_GROUP PERP_SEX  \\\n",
       "22            NaN                    False          25-44        M   \n",
       "23      PVT HOUSE                    False          18-24        M   \n",
       "26      PVT HOUSE                    False          18-24        M   \n",
       "31            NaN                    False          25-44        M   \n",
       "32            NaN                    False          25-44        M   \n",
       "..            ...                      ...            ...      ...   \n",
       "707           NaN                     True          45-64        M   \n",
       "729           NaN                    False            NaN      NaN   \n",
       "756           NaN                    False          18-24        M   \n",
       "757           NaN                    False          18-24        M   \n",
       "762           NaN                    False            NaN      NaN   \n",
       "\n",
       "          PERP_RACE VIC_AGE_GROUP VIC_SEX        VIC_RACE X_COORD_CD  \\\n",
       "22            BLACK         25-44       M  WHITE HISPANIC  1,020,357   \n",
       "23   WHITE HISPANIC         25-44       M  WHITE HISPANIC  1,015,346   \n",
       "26   WHITE HISPANIC         18-24       M  WHITE HISPANIC    1015346   \n",
       "31   WHITE HISPANIC         25-44       M  WHITE HISPANIC  1,014,384   \n",
       "32   WHITE HISPANIC         25-44       M  WHITE HISPANIC    1014384   \n",
       "..              ...           ...     ...             ...        ...   \n",
       "707           BLACK         25-44       M  WHITE HISPANIC    1008120   \n",
       "729             NaN         18-24       M  WHITE HISPANIC    1004530   \n",
       "756           BLACK         18-24       F  WHITE HISPANIC    1032140   \n",
       "757           BLACK         18-24       M  WHITE HISPANIC    1032140   \n",
       "762             NaN         25-44       M  WHITE HISPANIC    1011977   \n",
       "\n",
       "    Y_COORD_CD   Latitude  Longitude  \\\n",
       "22     259,231  40.878138 -73.869434   \n",
       "23     236,367  40.815402 -73.887661   \n",
       "26      236367  40.815402 -73.887661   \n",
       "31     256,796  40.871477 -73.891044   \n",
       "32      256796  40.871477 -73.891044   \n",
       "..         ...        ...        ...   \n",
       "707     238322  40.820790 -73.913759   \n",
       "729     242729  40.832895 -73.926716   \n",
       "756     242004  40.830799 -73.826949   \n",
       "757     242004  40.830799 -73.826949   \n",
       "762     240173  40.825860 -73.899816   \n",
       "\n",
       "                                           Lon_Lat  \n",
       "22    POINT (-73.86943433699997 40.87813788000005)  \n",
       "23   POINT (-73.88766070399998 40.815402050000046)  \n",
       "26   POINT (-73.88766070399998 40.815402050000046)  \n",
       "31    POINT (-73.89104432799998 40.87147697300003)  \n",
       "32    POINT (-73.89104432799998 40.87147697300003)  \n",
       "..                                             ...  \n",
       "707   POINT (-73.91375915499998 40.82079045300003)  \n",
       "729   POINT (-73.92671649599998 40.83289538100007)  \n",
       "756   POINT (-73.82694879599995 40.83079891400007)  \n",
       "757   POINT (-73.82694879599995 40.83079891400007)  \n",
       "762   POINT (-73.89981617899997 40.82585965700008)  \n",
       "\n",
       "[69 rows x 19 columns]"
      ]
     },
     "execution_count": 53,
     "metadata": {},
     "output_type": "execute_result"
    }
   ],
   "source": [
    "nypd[borough_filter & race_filter]"
   ]
  },
  {
   "cell_type": "markdown",
   "metadata": {},
   "source": [
    "**9) Make two dataframes -- one showing day shootings (9 am - 9 pm, inclusive) and one showing night shootings.**"
   ]
  },
  {
   "cell_type": "code",
   "execution_count": 3,
   "metadata": {},
   "outputs": [
    {
     "name": "stdout",
     "output_type": "stream",
     "text": [
      "     INCIDENT_KEY  OCCUR_DATE OCCUR_TIME       BORO  PRECINCT  \\\n",
      "0       199247701  07/03/2019   00:04:00     QUEENS       114   \n",
      "1       199247701  07/03/2019   00:04:00     QUEENS       114   \n",
      "2       199247701  07/03/2019   00:04:00     QUEENS       114   \n",
      "3       199247701  07/03/2019   00:04:00     QUEENS       114   \n",
      "4       199247701  07/03/2019   00:04:00     QUEENS       114   \n",
      "..            ...         ...        ...        ...       ...   \n",
      "821     206875589  12/30/2019   03:17:00   BROOKLYN        81   \n",
      "822     206882664  12/30/2019   21:29:00   BROOKLYN        71   \n",
      "823     206875589  12/30/2019   03:17:00   BROOKLYN        81   \n",
      "824     206890929  12/31/2019   23:15:00  MANHATTAN        28   \n",
      "825     206891917  12/31/2019   20:14:00   BROOKLYN        73   \n",
      "\n",
      "     JURISDICTION_CODE              LOCATION_DESC  STATISTICAL_MURDER_FLAG  \\\n",
      "0                    2  MULTI DWELL - PUBLIC HOUS                    False   \n",
      "1                    2  MULTI DWELL - PUBLIC HOUS                    False   \n",
      "2                    2  MULTI DWELL - PUBLIC HOUS                    False   \n",
      "3                    2  MULTI DWELL - PUBLIC HOUS                    False   \n",
      "4                    2  MULTI DWELL - PUBLIC HOUS                    False   \n",
      "..                 ...                        ...                      ...   \n",
      "821                  0                        NaN                    False   \n",
      "822                  0                        NaN                    False   \n",
      "823                  0                        NaN                    False   \n",
      "824                  0                HOTEL/MOTEL                     True   \n",
      "825                  0                        NaN                    False   \n",
      "\n",
      "    PERP_AGE_GROUP PERP_SEX PERP_RACE VIC_AGE_GROUP VIC_SEX        VIC_RACE  \\\n",
      "0              <18        M     WHITE         25-44       M  WHITE HISPANIC   \n",
      "1              <18        M     WHITE         25-44       M  WHITE HISPANIC   \n",
      "2              <18        M     WHITE         18-24       M           BLACK   \n",
      "3          UNKNOWN        U   UNKNOWN         18-24       M           BLACK   \n",
      "4            25-44        M     BLACK         18-24       M           BLACK   \n",
      "..             ...      ...       ...           ...     ...             ...   \n",
      "821            NaN      NaN       NaN         45-64       M  BLACK HISPANIC   \n",
      "822          25-44        M     BLACK         25-44       M           BLACK   \n",
      "823            NaN      NaN       NaN         18-24       M           BLACK   \n",
      "824          25-44        M     BLACK         25-44       M           BLACK   \n",
      "825            NaN      NaN       NaN         25-44       M           BLACK   \n",
      "\n",
      "    X_COORD_CD Y_COORD_CD   Latitude  Longitude  \\\n",
      "0       999925     214507  40.755443 -73.943423   \n",
      "1      999,925    214,507  40.755443 -73.943423   \n",
      "2      999,925    214,507  40.755443 -73.943423   \n",
      "3       999925     214507  40.755443 -73.943423   \n",
      "4       999925     214507  40.755443 -73.943423   \n",
      "..         ...        ...        ...        ...   \n",
      "821    1006612     189509  40.686815 -73.919370   \n",
      "822    1000996     178614  40.656923 -73.939647   \n",
      "823    1006612     189509  40.686815 -73.919370   \n",
      "824     997155     230828  40.800244 -73.953390   \n",
      "825    1007235     179932  40.660527 -73.917156   \n",
      "\n",
      "                                           Lon_Lat  \n",
      "0    POINT (-73.94342324599995 40.755443005000075)  \n",
      "1    POINT (-73.94342324599995 40.755443005000075)  \n",
      "2    POINT (-73.94342324599995 40.755443005000075)  \n",
      "3    POINT (-73.94342324599995 40.755443005000075)  \n",
      "4    POINT (-73.94342324599995 40.755443005000075)  \n",
      "..                                             ...  \n",
      "821   POINT (-73.91936988499998 40.68681516500004)  \n",
      "822  POINT (-73.93964677899999 40.656923240000026)  \n",
      "823   POINT (-73.91936988499998 40.68681516500004)  \n",
      "824   POINT (-73.95339008999997 40.80024432600004)  \n",
      "825   POINT (-73.91715616699997 40.66052686300003)  \n",
      "\n",
      "[826 rows x 19 columns]\n"
     ]
    }
   ],
   "source": [
    "nypd[(nypd[\"OCCUR_TIME\"] >= \"00:09:00\") & (nypd[\"OCCUR_TIME\"] <= \"21:00:00\")]   \n",
    "print(nypd)"
   ]
  },
  {
   "cell_type": "markdown",
   "metadata": {},
   "source": [
    "**10) Plot a graph of day shootings and one of night shootings. What do you notice?**"
   ]
  },
  {
   "cell_type": "code",
   "execution_count": null,
   "metadata": {},
   "outputs": [],
   "source": []
  }
 ],
 "metadata": {
  "kernelspec": {
   "display_name": "Python 3",
   "language": "python",
   "name": "python3"
  },
  "language_info": {
   "codemirror_mode": {
    "name": "ipython",
    "version": 3
   },
   "file_extension": ".py",
   "mimetype": "text/x-python",
   "name": "python",
   "nbconvert_exporter": "python",
   "pygments_lexer": "ipython3",
   "version": "3.7.6"
  }
 },
 "nbformat": 4,
 "nbformat_minor": 2
}
